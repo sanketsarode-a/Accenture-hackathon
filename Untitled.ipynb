{
 "cells": [
  {
   "cell_type": "code",
   "execution_count": null,
   "id": "06e2be6b-9259-4c42-b695-52bb2ab092de",
   "metadata": {},
   "outputs": [],
   "source": [
    "import streamlit as st\n",
    "import os\n",
    "import sqlite3\n",
    "import pandas as pd\n",
    "import fitz \n",
    "import requests\n",
    "\n",
    "from sentence_transformers import SentenceTransformer, util"
   ]
  },
  {
   "cell_type": "code",
   "execution_count": null,
   "id": "351740cc-e151-45fd-8898-bf3a8591cdac",
   "metadata": {},
   "outputs": [],
   "source": [
    "st.title(\"AI-Powered Job Screening System\")"
   ]
  },
  {
   "cell_type": "code",
   "execution_count": null,
   "id": "d0ef36e2-b1ed-4c36-843e-6f46186155c2",
   "metadata": {},
   "outputs": [],
   "source": []
  }
 ],
 "metadata": {
  "kernelspec": {
   "display_name": "Python 3 (ipykernel)",
   "language": "python",
   "name": "python3"
  },
  "language_info": {
   "codemirror_mode": {
    "name": "ipython",
    "version": 3
   },
   "file_extension": ".py",
   "mimetype": "text/x-python",
   "name": "python",
   "nbconvert_exporter": "python",
   "pygments_lexer": "ipython3",
   "version": "3.12.4"
  }
 },
 "nbformat": 4,
 "nbformat_minor": 5
}
